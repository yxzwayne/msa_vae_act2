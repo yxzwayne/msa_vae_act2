{
 "cells": [
  {
   "cell_type": "code",
   "execution_count": 2,
   "metadata": {},
   "outputs": [
    {
     "name": "stderr",
     "output_type": "stream",
     "text": [
      "100%|██████████| 500/500 [01:43<00:00,  4.81it/s]\n"
     ]
    }
   ],
   "source": [
    "#!/usr/bin/env python3\n",
    "import numpy as np\n",
    "import pandas as pd\n",
    "import h5py\n",
    "import sys\n",
    "import seqload\n",
    "\n",
    "from tqdm import tqdm\n",
    "from numpy import random\n",
    "from scipy.stats import pearsonr, spearmanr\n",
    "\n",
    "hist = lambda a, bins: np.histogram(a, bins=bins, density=True)[0].tolist()\n",
    "\n",
    "# npos = int(\n",
    "#     sys.argv[1]\n",
    "# )  # this is the singular marginal order this file runs, from 2 to 14...\n",
    "# reps = int(sys.argv[2])  # usually 500\n",
    "\n",
    "# modelseqs = seqload.loadSeqs(sys.argv[4], \"ABCD\")[0]\n",
    "# indepseqs = seqload.loadSeqs(sys.argv[5], \"ABCD\")[0]\n",
    "# targetseqs = seqload.loadSeqs(sys.argv[3], \"ABCD\")[0]\n",
    "\n",
    "repstack, su, fd2, fp2, fi2 = [], [], [], [], []\n",
    "\n",
    "npos, reps = 4, 500\n",
    "modelseqs = seqload.loadSeqs(\"../seq/gen_sVAE.seqs\", \"ABCD\")[0]\n",
    "indepseqs = seqload.loadSeqs(\"../seq/gen2.indep.seqs\", \"ABCD\")[0]\n",
    "targetseqs = seqload.loadSeqs(\"../seq/6M_test.seqs\", \"ABCD\")[0]\n",
    "\n",
    "targetseqs = (targetseqs + ord(\"A\")).view(\"S1\")\n",
    "modelseqs = (modelseqs + ord(\"A\")).view(\"S1\")\n",
    "indepseqs = (indepseqs + ord(\"A\")).view(\"S1\")\n",
    "\n",
    "L = targetseqs.shape[1]\n",
    "Nd = targetseqs.shape[0]\n",
    "Np = modelseqs.shape[0]\n",
    "Ni = indepseqs.shape[0]\n",
    "\n",
    "allseq = np.concatenate([targetseqs, modelseqs, indepseqs])\n",
    "choose_from = np.arange(0, L, 1)\n",
    "choose_from = choose_from.astype(\"int\")\n",
    "\n",
    "\n",
    "repstack, su, fd2, fp2, fi2 = [], [], [], [], []\n",
    "\n",
    "\n",
    "for i in tqdm(range(reps)):\n",
    "    chosenpos = random.choice(choose_from, npos, replace=False)\n",
    "    pos_string = int(\"\".join([str(i + 1) for i in chosenpos]))\n",
    "\n",
    "    # compute marginals (both datasets together, to we get counts for\n",
    "    # subsequences that only appear in one datasets)\n",
    "    # Numpy has no clear way to compute subsequence frequencies, so we\n",
    "    # use a trick involving viewing the memory with a V(oid) datatype.\n",
    "    v = np.ascontiguousarray(allseq[:, chosenpos]).view(\"S{}\".format(npos))\n",
    "    u, c = np.unique(v, return_inverse=True)\n",
    "    bins = np.arange(len(u) + 1) - 0.5\n",
    "    fd = hist(c[:Nd], bins)\n",
    "    fp = hist(c[Nd : Nd + Np], bins)\n",
    "    fi = hist(c[Nd + Np : Nd + Np + Ni], bins)\n",
    "\n",
    "    fd2 += fd\n",
    "    fp2 += fp\n",
    "    fi2 += fi\n",
    "\n",
    "    repstack += [i + 1 for n in range(0, len(u))]\n",
    "    su += [\n",
    "        int(\"\".join([str(\"ABCD\".index(ss)) for ss in (str(s).split(\"'\")[1])]))\n",
    "        for s in u\n",
    "    ]\n",
    "    top20 = np.argsort(fd)[-20:]\n",
    "    fd20 = [fd[m] for m in top20]\n",
    "    fp20 = [fp[m] for m in top20]\n",
    "    fi20 = [fi[m] for m in top20]\n",
    "\n",
    "\n",
    "result = np.vstack((repstack, su, fd2, fp2, fi2)).T"
   ]
  },
  {
   "cell_type": "code",
   "execution_count": null,
   "metadata": {},
   "outputs": [],
   "source": []
  },
  {
   "cell_type": "code",
   "execution_count": 3,
   "metadata": {},
   "outputs": [
    {
     "name": "stdout",
     "output_type": "stream",
     "text": [
      "(34047, 5)\n",
      "array([[1.00000000e+00, 3.20000000e+01, 0.00000000e+00, 9.53834414e-07,\n",
      "        0.00000000e+00],\n",
      "       [1.00000000e+00, 2.12000000e+02, 4.76836855e-06, 4.76917207e-06,\n",
      "        5.72204590e-06],\n",
      "       [1.00000000e+00, 2.13000000e+02, 1.58945618e-06, 0.00000000e+00,\n",
      "        9.53674316e-07],\n",
      "       ...,\n",
      "       [5.00000000e+02, 3.31100000e+03, 1.74840180e-05, 9.53834414e-07,\n",
      "        1.90734863e-06],\n",
      "       [5.00000000e+02, 3.31300000e+03, 3.97364046e-05, 2.67073636e-05,\n",
      "        3.24249268e-05],\n",
      "       [5.00000000e+02, 3.32000000e+03, 1.58945618e-06, 1.90766883e-06,\n",
      "        9.53674316e-07]])\n"
     ]
    }
   ],
   "source": [
    "from pprint import pprint\n",
    "print(result.shape)\n",
    "pprint(result)"
   ]
  },
  {
   "cell_type": "code",
   "execution_count": 4,
   "metadata": {},
   "outputs": [],
   "source": [
    "import pandas as pd\n",
    "import h5py, re, sys\n",
    "import numpy as np\n",
    "from scipy.stats import spearmanr\n",
    "from scipy.interpolate import UnivariateSpline\n",
    "from pylab import *\n",
    "\n",
    "threshold = 0.02\n",
    "orders = np.arange(2, 14)\n",
    "min_order, max_order = 2, 13\n",
    "\n",
    "\n",
    "pp = []\n",
    "r = np.arange(1, 501)\n",
    "\n",
    "with pd.HDFStore(\"PI.h5\") as store:\n",
    "    for onum in orders:\n",
    "        # f=open('pp'+str(onum),\"w\")\n",
    "        o = \"/order\" + str(onum)\n",
    "        # if d.data>0:\n",
    "        gg = store[o][\"data\"]\n",
    "        gg2 = store[o][\"indep\"]\n",
    "        gg3 = store[o][\"model\"]\n",
    "        gg4 = store[o][\"repnum\"]\n",
    "\n",
    "        g = np.vstack((gg, gg2, gg3, gg4)).T\n",
    "        # g=g[g[:,0]>threshold]\n",
    "        gl = g[np.argsort(-g[:, 0])]\n",
    "        h = gl[gl[:, 0] > threshold]\n",
    "\n",
    "        # h=[gl[gl[:,3]==rr][1] for rr in r]\n",
    "        # h=np.asarray(h)\n",
    "        if onum == min_order:\n",
    "            gl_o = gl\n",
    "            h_o = h\n",
    "        pp.append([spearmanr(h[:, 0], h[:, 1])[0], spearmanr(h[:, 0], h[:, 2])[0]])\n",
    "        # pp.append([spearmanr(gl[:,0],gl[:,1])[0],spearmanr(gl[:,0],gl[:,2])[0]])\n",
    "\n",
    "pp = np.asarray(pp)"
   ]
  },
  {
   "cell_type": "code",
   "execution_count": 7,
   "metadata": {},
   "outputs": [
    {
     "data": {
      "text/plain": [
       "array([1.00000000e+00, 3.13000000e+02, 3.17891237e-06, 9.53834414e-07,\n",
       "       9.53674316e-07])"
      ]
     },
     "execution_count": 7,
     "metadata": {},
     "output_type": "execute_result"
    }
   ],
   "source": [
    "result"
   ]
  }
 ],
 "metadata": {
  "kernelspec": {
   "display_name": "msa",
   "language": "python",
   "name": "python3"
  },
  "language_info": {
   "codemirror_mode": {
    "name": "ipython",
    "version": 3
   },
   "file_extension": ".py",
   "mimetype": "text/x-python",
   "name": "python",
   "nbconvert_exporter": "python",
   "pygments_lexer": "ipython3",
   "version": "3.10.8"
  }
 },
 "nbformat": 4,
 "nbformat_minor": 2
}
